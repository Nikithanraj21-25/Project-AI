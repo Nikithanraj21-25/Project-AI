{
  "nbformat": 4,
  "nbformat_minor": 0,
  "metadata": {
    "colab": {
      "provenance": [],
      "authorship_tag": "ABX9TyMeXo6IeoGEODjOMSq0u8vQ",
      "include_colab_link": true
    },
    "kernelspec": {
      "name": "python3",
      "display_name": "Python 3"
    },
    "language_info": {
      "name": "python"
    }
  },
  "cells": [
    {
      "cell_type": "markdown",
      "metadata": {
        "id": "view-in-github",
        "colab_type": "text"
      },
      "source": [
        "<a href=\"https://colab.research.google.com/github/Nikithanraj21-25/Project-AI/blob/main/ModelValidation.ipynb\" target=\"_parent\"><img src=\"https://colab.research.google.com/assets/colab-badge.svg\" alt=\"Open In Colab\"/></a>"
      ]
    },
    {
      "cell_type": "markdown",
      "source": [
        "# **Energy Meter using ML**"
      ],
      "metadata": {
        "id": "1whK46aL7jvp"
      }
    },
    {
      "cell_type": "code",
      "source": [
        "from google.colab import drive\n",
        "drive.mount('/content/drive')"
      ],
      "metadata": {
        "id": "Ijp_P60Oqu6t"
      },
      "execution_count": null,
      "outputs": []
    },
    {
      "cell_type": "code",
      "source": [
        "!pip install pandas\n"
      ],
      "metadata": {
        "id": "ilDei1AugFCU",
        "colab": {
          "base_uri": "https://localhost:8080/"
        },
        "outputId": "d9352930-d27b-4cf1-9fcb-aa66332497d1"
      },
      "execution_count": 16,
      "outputs": [
        {
          "output_type": "stream",
          "name": "stdout",
          "text": [
            "Requirement already satisfied: pandas in /usr/local/lib/python3.10/dist-packages (2.0.3)\n",
            "Requirement already satisfied: python-dateutil>=2.8.2 in /usr/local/lib/python3.10/dist-packages (from pandas) (2.8.2)\n",
            "Requirement already satisfied: pytz>=2020.1 in /usr/local/lib/python3.10/dist-packages (from pandas) (2023.4)\n",
            "Requirement already satisfied: tzdata>=2022.1 in /usr/local/lib/python3.10/dist-packages (from pandas) (2024.1)\n",
            "Requirement already satisfied: numpy>=1.21.0 in /usr/local/lib/python3.10/dist-packages (from pandas) (1.25.2)\n",
            "Requirement already satisfied: six>=1.5 in /usr/local/lib/python3.10/dist-packages (from python-dateutil>=2.8.2->pandas) (1.16.0)\n"
          ]
        }
      ]
    },
    {
      "cell_type": "code",
      "execution_count": 17,
      "metadata": {
        "id": "CR1gcQGbakr1"
      },
      "outputs": [],
      "source": [
        "from pandas import read_csv #handling csv files"
      ]
    },
    {
      "cell_type": "code",
      "source": [
        "from google.colab import files\n",
        "uploaded = files.upload()"
      ],
      "metadata": {
        "id": "B41nkWILf4Lc",
        "colab": {
          "base_uri": "https://localhost:8080/",
          "height": 73
        },
        "outputId": "7d10b691-c971-4e06-92b2-45ef80017fde"
      },
      "execution_count": 18,
      "outputs": [
        {
          "output_type": "display_data",
          "data": {
            "text/plain": [
              "<IPython.core.display.HTML object>"
            ],
            "text/html": [
              "\n",
              "     <input type=\"file\" id=\"files-1ced4fa3-48d0-4aa4-86eb-3289c09545b3\" name=\"files[]\" multiple disabled\n",
              "        style=\"border:none\" />\n",
              "     <output id=\"result-1ced4fa3-48d0-4aa4-86eb-3289c09545b3\">\n",
              "      Upload widget is only available when the cell has been executed in the\n",
              "      current browser session. Please rerun this cell to enable.\n",
              "      </output>\n",
              "      <script>// Copyright 2017 Google LLC\n",
              "//\n",
              "// Licensed under the Apache License, Version 2.0 (the \"License\");\n",
              "// you may not use this file except in compliance with the License.\n",
              "// You may obtain a copy of the License at\n",
              "//\n",
              "//      http://www.apache.org/licenses/LICENSE-2.0\n",
              "//\n",
              "// Unless required by applicable law or agreed to in writing, software\n",
              "// distributed under the License is distributed on an \"AS IS\" BASIS,\n",
              "// WITHOUT WARRANTIES OR CONDITIONS OF ANY KIND, either express or implied.\n",
              "// See the License for the specific language governing permissions and\n",
              "// limitations under the License.\n",
              "\n",
              "/**\n",
              " * @fileoverview Helpers for google.colab Python module.\n",
              " */\n",
              "(function(scope) {\n",
              "function span(text, styleAttributes = {}) {\n",
              "  const element = document.createElement('span');\n",
              "  element.textContent = text;\n",
              "  for (const key of Object.keys(styleAttributes)) {\n",
              "    element.style[key] = styleAttributes[key];\n",
              "  }\n",
              "  return element;\n",
              "}\n",
              "\n",
              "// Max number of bytes which will be uploaded at a time.\n",
              "const MAX_PAYLOAD_SIZE = 100 * 1024;\n",
              "\n",
              "function _uploadFiles(inputId, outputId) {\n",
              "  const steps = uploadFilesStep(inputId, outputId);\n",
              "  const outputElement = document.getElementById(outputId);\n",
              "  // Cache steps on the outputElement to make it available for the next call\n",
              "  // to uploadFilesContinue from Python.\n",
              "  outputElement.steps = steps;\n",
              "\n",
              "  return _uploadFilesContinue(outputId);\n",
              "}\n",
              "\n",
              "// This is roughly an async generator (not supported in the browser yet),\n",
              "// where there are multiple asynchronous steps and the Python side is going\n",
              "// to poll for completion of each step.\n",
              "// This uses a Promise to block the python side on completion of each step,\n",
              "// then passes the result of the previous step as the input to the next step.\n",
              "function _uploadFilesContinue(outputId) {\n",
              "  const outputElement = document.getElementById(outputId);\n",
              "  const steps = outputElement.steps;\n",
              "\n",
              "  const next = steps.next(outputElement.lastPromiseValue);\n",
              "  return Promise.resolve(next.value.promise).then((value) => {\n",
              "    // Cache the last promise value to make it available to the next\n",
              "    // step of the generator.\n",
              "    outputElement.lastPromiseValue = value;\n",
              "    return next.value.response;\n",
              "  });\n",
              "}\n",
              "\n",
              "/**\n",
              " * Generator function which is called between each async step of the upload\n",
              " * process.\n",
              " * @param {string} inputId Element ID of the input file picker element.\n",
              " * @param {string} outputId Element ID of the output display.\n",
              " * @return {!Iterable<!Object>} Iterable of next steps.\n",
              " */\n",
              "function* uploadFilesStep(inputId, outputId) {\n",
              "  const inputElement = document.getElementById(inputId);\n",
              "  inputElement.disabled = false;\n",
              "\n",
              "  const outputElement = document.getElementById(outputId);\n",
              "  outputElement.innerHTML = '';\n",
              "\n",
              "  const pickedPromise = new Promise((resolve) => {\n",
              "    inputElement.addEventListener('change', (e) => {\n",
              "      resolve(e.target.files);\n",
              "    });\n",
              "  });\n",
              "\n",
              "  const cancel = document.createElement('button');\n",
              "  inputElement.parentElement.appendChild(cancel);\n",
              "  cancel.textContent = 'Cancel upload';\n",
              "  const cancelPromise = new Promise((resolve) => {\n",
              "    cancel.onclick = () => {\n",
              "      resolve(null);\n",
              "    };\n",
              "  });\n",
              "\n",
              "  // Wait for the user to pick the files.\n",
              "  const files = yield {\n",
              "    promise: Promise.race([pickedPromise, cancelPromise]),\n",
              "    response: {\n",
              "      action: 'starting',\n",
              "    }\n",
              "  };\n",
              "\n",
              "  cancel.remove();\n",
              "\n",
              "  // Disable the input element since further picks are not allowed.\n",
              "  inputElement.disabled = true;\n",
              "\n",
              "  if (!files) {\n",
              "    return {\n",
              "      response: {\n",
              "        action: 'complete',\n",
              "      }\n",
              "    };\n",
              "  }\n",
              "\n",
              "  for (const file of files) {\n",
              "    const li = document.createElement('li');\n",
              "    li.append(span(file.name, {fontWeight: 'bold'}));\n",
              "    li.append(span(\n",
              "        `(${file.type || 'n/a'}) - ${file.size} bytes, ` +\n",
              "        `last modified: ${\n",
              "            file.lastModifiedDate ? file.lastModifiedDate.toLocaleDateString() :\n",
              "                                    'n/a'} - `));\n",
              "    const percent = span('0% done');\n",
              "    li.appendChild(percent);\n",
              "\n",
              "    outputElement.appendChild(li);\n",
              "\n",
              "    const fileDataPromise = new Promise((resolve) => {\n",
              "      const reader = new FileReader();\n",
              "      reader.onload = (e) => {\n",
              "        resolve(e.target.result);\n",
              "      };\n",
              "      reader.readAsArrayBuffer(file);\n",
              "    });\n",
              "    // Wait for the data to be ready.\n",
              "    let fileData = yield {\n",
              "      promise: fileDataPromise,\n",
              "      response: {\n",
              "        action: 'continue',\n",
              "      }\n",
              "    };\n",
              "\n",
              "    // Use a chunked sending to avoid message size limits. See b/62115660.\n",
              "    let position = 0;\n",
              "    do {\n",
              "      const length = Math.min(fileData.byteLength - position, MAX_PAYLOAD_SIZE);\n",
              "      const chunk = new Uint8Array(fileData, position, length);\n",
              "      position += length;\n",
              "\n",
              "      const base64 = btoa(String.fromCharCode.apply(null, chunk));\n",
              "      yield {\n",
              "        response: {\n",
              "          action: 'append',\n",
              "          file: file.name,\n",
              "          data: base64,\n",
              "        },\n",
              "      };\n",
              "\n",
              "      let percentDone = fileData.byteLength === 0 ?\n",
              "          100 :\n",
              "          Math.round((position / fileData.byteLength) * 100);\n",
              "      percent.textContent = `${percentDone}% done`;\n",
              "\n",
              "    } while (position < fileData.byteLength);\n",
              "  }\n",
              "\n",
              "  // All done.\n",
              "  yield {\n",
              "    response: {\n",
              "      action: 'complete',\n",
              "    }\n",
              "  };\n",
              "}\n",
              "\n",
              "scope.google = scope.google || {};\n",
              "scope.google.colab = scope.google.colab || {};\n",
              "scope.google.colab._files = {\n",
              "  _uploadFiles,\n",
              "  _uploadFilesContinue,\n",
              "};\n",
              "})(self);\n",
              "</script> "
            ]
          },
          "metadata": {}
        },
        {
          "output_type": "stream",
          "name": "stdout",
          "text": [
            "Saving Energy Meter.csv to Energy Meter (1).csv\n"
          ]
        }
      ]
    },
    {
      "cell_type": "code",
      "source": [
        "fileName = \"Energy Meter.csv\"\n",
        "names = ['Voltage', 'Current', 'Power', 'Class']\n",
        "dataset = read_csv(fileName, names = names)\n",
        "print(dataset)"
      ],
      "metadata": {
        "id": "R-5pwGY4mXd0",
        "colab": {
          "base_uri": "https://localhost:8080/"
        },
        "outputId": "86345b28-8599-49ce-a805-29f211480f05"
      },
      "execution_count": 19,
      "outputs": [
        {
          "output_type": "stream",
          "name": "stdout",
          "text": [
            "      Voltage   Current       Power   Class\n",
            "0      0.0000  0.000000    0.000000  NoLoad\n",
            "1      0.0000  0.000000    0.000000  NoLoad\n",
            "2      0.0000  0.000000    0.000000  NoLoad\n",
            "3      0.0000  0.000000    0.000000  NoLoad\n",
            "4      0.0000  0.000000    0.000000  NoLoad\n",
            "..        ...       ...         ...     ...\n",
            "395  214.2647  0.847530  181.595761    Risk\n",
            "396  214.6480  0.850669  182.594400    Risk\n",
            "397  215.0313  0.850669  182.920461    Risk\n",
            "398  211.9649  0.850669  180.311970    Risk\n",
            "399  215.7979  0.850669  183.572584    Risk\n",
            "\n",
            "[400 rows x 4 columns]\n"
          ]
        }
      ]
    },
    {
      "cell_type": "markdown",
      "source": [
        "## **Summarize Dataset**"
      ],
      "metadata": {
        "id": "B8j3Y2mVn500"
      }
    },
    {
      "cell_type": "code",
      "source": [
        "print(dataset.shape) #show no. of rows and columns\n",
        "print(dataset.head(5)) #shows first five data\n",
        "print(dataset.describe()) #Details of dataset\n",
        "print(dataset.groupby('Class').size()) #Count dataset based on classes"
      ],
      "metadata": {
        "id": "oTvfQfmOoGTg",
        "colab": {
          "base_uri": "https://localhost:8080/"
        },
        "outputId": "3e0e5975-31fa-4e41-9415-2b5f129cb37c"
      },
      "execution_count": 20,
      "outputs": [
        {
          "output_type": "stream",
          "name": "stdout",
          "text": [
            "(400, 4)\n",
            "   Voltage  Current  Power   Class\n",
            "0      0.0      0.0    0.0  NoLoad\n",
            "1      0.0      0.0    0.0  NoLoad\n",
            "2      0.0      0.0    0.0  NoLoad\n",
            "3      0.0      0.0    0.0  NoLoad\n",
            "4      0.0      0.0    0.0  NoLoad\n",
            "          Voltage     Current       Power\n",
            "count  400.000000  400.000000  400.000000\n",
            "mean   160.657320    0.317734   68.065053\n",
            "std     93.125536    0.320430   68.941682\n",
            "min      0.000000    0.000000    0.000000\n",
            "25%     79.151450    0.076849    0.000000\n",
            "50%    213.114800    0.176985   38.430426\n",
            "75%    215.031300    0.398765  101.438042\n",
            "max    304.340200    1.227349  264.859337\n",
            "Class\n",
            "Medium    100\n",
            "NoLoad    100\n",
            "Normal    100\n",
            "Risk      100\n",
            "dtype: int64\n"
          ]
        }
      ]
    },
    {
      "cell_type": "markdown",
      "source": [
        "## **Visualize data**"
      ],
      "metadata": {
        "id": "HUkTg25_plgy"
      }
    },
    {
      "cell_type": "code",
      "source": [
        "from pandas.plotting import scatter_matrix\n",
        "from matplotlib import pyplot"
      ],
      "metadata": {
        "id": "iW4Jlw-EpsNe"
      },
      "execution_count": 21,
      "outputs": []
    },
    {
      "cell_type": "code",
      "source": [
        "#BAR PLOT\n",
        "ax = dataset.plot(kind='bar', subplots=True, layout=(2, 2), use_index=False)\n",
        "for row in ax:\n",
        "    for subplot in row:\n",
        "        subplot.grid(False)  # Remove gridlines\n",
        "        subplot.tick_params(axis='x', which='both', bottom=False, top=False, labelbottom=False)  # Remove x-axis ticks and labels\n",
        "pyplot.suptitle('BAR PLOT')\n",
        "pyplot.show()\n",
        "\n",
        "#HISTOGRAM\n",
        "dataset.hist()\n",
        "pyplot.suptitle('HISTOGRAM PLOT')\n",
        "pyplot.show()\n",
        "\n",
        "#SCATTER PLOT\n",
        "scatter_matrix(dataset)\n",
        "pyplot.suptitle('SCATTER PLOT')\n",
        "pyplot.show()\n",
        "\n",
        "\n"
      ],
      "metadata": {
        "id": "GYiSfECqqJQC",
        "colab": {
          "base_uri": "https://localhost:8080/",
          "height": 1000
        },
        "outputId": "a8fc1811-c25e-4d46-9292-cfec55df1846"
      },
      "execution_count": 15,
      "outputs": [
        {
          "output_type": "display_data",
          "data": {
            "text/plain": [
              "<Figure size 640x480 with 4 Axes>"
            ],
            "image/png": "[encoded data removed]"
          },
          "metadata": {}
        },
        {
          "output_type": "display_data",
          "data": {
            "text/plain": [
              "<Figure size 640x480 with 4 Axes>"
            ],
            "image/png": "[encoded data removed]"
          },
          "metadata": {}
        },
        {
          "output_type": "display_data",
          "data": {
            "text/plain": [
              "<Figure size 640x480 with 9 Axes>"
            ],
            "image/png": "[encoded data removed]"
          },
          "metadata": {}
        }
      ]
    },
    {
      "cell_type": "markdown",
      "source": [
        "## **Evaluating various ML Algorithm**"
      ],
      "metadata": {
        "id": "R0IF7C2JsAZg"
      }
    },
    {
      "cell_type": "markdown",
      "source": [
        "### **loading library for algorithm, splitting dataset, evaluation method**"
      ],
      "metadata": {
        "id": "T51D_lgdweDS"
      }
    },
    {
      "cell_type": "code",
      "source": [
        "!pip install scikit-learn #for load the algorithm"
      ],
      "metadata": {
        "id": "kI5V6b4ssJxN",
        "colab": {
          "base_uri": "https://localhost:8080/"
        },
        "outputId": "23e1ef42-adea-42d2-b94a-4b9740417468"
      },
      "execution_count": 22,
      "outputs": [
        {
          "output_type": "stream",
          "name": "stdout",
          "text": [
            "Requirement already satisfied: scikit-learn in /usr/local/lib/python3.10/dist-packages (1.2.2)\n",
            "Requirement already satisfied: numpy>=1.17.3 in /usr/local/lib/python3.10/dist-packages (from scikit-learn) (1.25.2)\n",
            "Requirement already satisfied: scipy>=1.3.2 in /usr/local/lib/python3.10/dist-packages (from scikit-learn) (1.11.4)\n",
            "Requirement already satisfied: joblib>=1.1.1 in /usr/local/lib/python3.10/dist-packages (from scikit-learn) (1.4.0)\n",
            "Requirement already satisfied: threadpoolctl>=2.0.0 in /usr/local/lib/python3.10/dist-packages (from scikit-learn) (3.4.0)\n"
          ]
        }
      ]
    },
    {
      "cell_type": "code",
      "source": [
        "from sklearn.discriminant_analysis import LinearDiscriminantAnalysis\n",
        "from sklearn.linear_model import LogisticRegression\n",
        "from sklearn.tree import DecisionTreeClassifier\n",
        "from sklearn.neighbors import KNeighborsClassifier\n",
        "from sklearn.naive_bayes import GaussianNB\n",
        "from sklearn.svm import SVC\n",
        "\n",
        "from sklearn.model_selection import train_test_split #for splitting dataset into train and test\n",
        "\n",
        "#for evaluate algorithms\n",
        "from sklearn.model_selection import cross_val_score\n",
        "from sklearn.model_selection import StratifiedKFold\n"
      ],
      "metadata": {
        "id": "3_EQsCJFshtD"
      },
      "execution_count": 23,
      "outputs": []
    },
    {
      "cell_type": "markdown",
      "source": [
        "### **Segregation of data as input and output**"
      ],
      "metadata": {
        "id": "8Md6uVduxrU3"
      }
    },
    {
      "cell_type": "code",
      "source": [
        "array = dataset.values #store dataset in array\n",
        "x = array[:,0:3] #input\n",
        "y = array[:,3] #output\n",
        "print(x)\n",
        "print(y)"
      ],
      "metadata": {
        "id": "2lNj2esAvBMf",
        "colab": {
          "base_uri": "https://localhost:8080/"
        },
        "outputId": "f627ec91-d485-49d8-c3d8-42979efc5ed4"
      },
      "execution_count": 24,
      "outputs": [
        {
          "output_type": "stream",
          "name": "stdout",
          "text": [
            "[[0.0 0.0 0.0]\n",
            " [0.0 0.0 0.0]\n",
            " [0.0 0.0 0.0]\n",
            " ...\n",
            " [215.0313 0.850669 182.9204609]\n",
            " [211.9649 0.850669 180.3119695]\n",
            " [215.7979 0.850669 183.5725838]]\n",
            "['NoLoad' 'NoLoad' 'NoLoad' 'NoLoad' 'NoLoad' 'NoLoad' 'NoLoad' 'NoLoad'\n",
            " 'NoLoad' 'NoLoad' 'NoLoad' 'NoLoad' 'NoLoad' 'NoLoad' 'NoLoad' 'NoLoad'\n",
            " 'NoLoad' 'NoLoad' 'NoLoad' 'NoLoad' 'NoLoad' 'NoLoad' 'NoLoad' 'NoLoad'\n",
            " 'NoLoad' 'NoLoad' 'NoLoad' 'NoLoad' 'NoLoad' 'NoLoad' 'NoLoad' 'NoLoad'\n",
            " 'NoLoad' 'NoLoad' 'NoLoad' 'NoLoad' 'NoLoad' 'NoLoad' 'NoLoad' 'NoLoad'\n",
            " 'NoLoad' 'NoLoad' 'NoLoad' 'NoLoad' 'NoLoad' 'NoLoad' 'NoLoad' 'NoLoad'\n",
            " 'NoLoad' 'NoLoad' 'NoLoad' 'NoLoad' 'NoLoad' 'NoLoad' 'NoLoad' 'NoLoad'\n",
            " 'NoLoad' 'NoLoad' 'NoLoad' 'NoLoad' 'NoLoad' 'NoLoad' 'NoLoad' 'NoLoad'\n",
            " 'NoLoad' 'NoLoad' 'NoLoad' 'NoLoad' 'NoLoad' 'NoLoad' 'NoLoad' 'NoLoad'\n",
            " 'NoLoad' 'NoLoad' 'NoLoad' 'NoLoad' 'NoLoad' 'NoLoad' 'NoLoad' 'NoLoad'\n",
            " 'NoLoad' 'NoLoad' 'NoLoad' 'NoLoad' 'NoLoad' 'NoLoad' 'NoLoad' 'NoLoad'\n",
            " 'NoLoad' 'NoLoad' 'NoLoad' 'NoLoad' 'NoLoad' 'NoLoad' 'NoLoad' 'NoLoad'\n",
            " 'NoLoad' 'NoLoad' 'NoLoad' 'NoLoad' 'Normal' 'Normal' 'Normal' 'Normal'\n",
            " 'Normal' 'Normal' 'Normal' 'Normal' 'Normal' 'Normal' 'Normal' 'Normal'\n",
            " 'Normal' 'Normal' 'Normal' 'Normal' 'Normal' 'Normal' 'Normal' 'Normal'\n",
            " 'Normal' 'Normal' 'Normal' 'Normal' 'Normal' 'Normal' 'Normal' 'Normal'\n",
            " 'Normal' 'Normal' 'Normal' 'Normal' 'Normal' 'Normal' 'Normal' 'Normal'\n",
            " 'Normal' 'Normal' 'Normal' 'Normal' 'Normal' 'Normal' 'Normal' 'Normal'\n",
            " 'Normal' 'Normal' 'Normal' 'Normal' 'Normal' 'Normal' 'Normal' 'Normal'\n",
            " 'Normal' 'Normal' 'Normal' 'Normal' 'Normal' 'Normal' 'Normal' 'Normal'\n",
            " 'Normal' 'Normal' 'Normal' 'Normal' 'Normal' 'Normal' 'Normal' 'Normal'\n",
            " 'Normal' 'Normal' 'Normal' 'Normal' 'Normal' 'Normal' 'Normal' 'Normal'\n",
            " 'Normal' 'Normal' 'Normal' 'Normal' 'Normal' 'Normal' 'Normal' 'Normal'\n",
            " 'Normal' 'Normal' 'Normal' 'Normal' 'Normal' 'Normal' 'Normal' 'Normal'\n",
            " 'Normal' 'Normal' 'Normal' 'Normal' 'Normal' 'Normal' 'Normal' 'Normal'\n",
            " 'Medium' 'Medium' 'Medium' 'Medium' 'Medium' 'Medium' 'Medium' 'Medium'\n",
            " 'Medium' 'Medium' 'Medium' 'Medium' 'Medium' 'Medium' 'Medium' 'Medium'\n",
            " 'Medium' 'Medium' 'Medium' 'Medium' 'Medium' 'Medium' 'Medium' 'Medium'\n",
            " 'Medium' 'Medium' 'Medium' 'Medium' 'Medium' 'Medium' 'Medium' 'Medium'\n",
            " 'Medium' 'Medium' 'Medium' 'Medium' 'Medium' 'Medium' 'Medium' 'Medium'\n",
            " 'Medium' 'Medium' 'Medium' 'Medium' 'Medium' 'Medium' 'Medium' 'Medium'\n",
            " 'Medium' 'Medium' 'Medium' 'Medium' 'Medium' 'Medium' 'Medium' 'Medium'\n",
            " 'Medium' 'Medium' 'Medium' 'Medium' 'Medium' 'Medium' 'Medium' 'Medium'\n",
            " 'Medium' 'Medium' 'Medium' 'Medium' 'Medium' 'Medium' 'Medium' 'Medium'\n",
            " 'Medium' 'Medium' 'Medium' 'Medium' 'Medium' 'Medium' 'Medium' 'Medium'\n",
            " 'Medium' 'Medium' 'Medium' 'Medium' 'Medium' 'Medium' 'Medium' 'Medium'\n",
            " 'Medium' 'Medium' 'Medium' 'Medium' 'Medium' 'Medium' 'Medium' 'Medium'\n",
            " 'Medium' 'Medium' 'Medium' 'Medium' 'Risk' 'Risk' 'Risk' 'Risk' 'Risk'\n",
            " 'Risk' 'Risk' 'Risk' 'Risk' 'Risk' 'Risk' 'Risk' 'Risk' 'Risk' 'Risk'\n",
            " 'Risk' 'Risk' 'Risk' 'Risk' 'Risk' 'Risk' 'Risk' 'Risk' 'Risk' 'Risk'\n",
            " 'Risk' 'Risk' 'Risk' 'Risk' 'Risk' 'Risk' 'Risk' 'Risk' 'Risk' 'Risk'\n",
            " 'Risk' 'Risk' 'Risk' 'Risk' 'Risk' 'Risk' 'Risk' 'Risk' 'Risk' 'Risk'\n",
            " 'Risk' 'Risk' 'Risk' 'Risk' 'Risk' 'Risk' 'Risk' 'Risk' 'Risk' 'Risk'\n",
            " 'Risk' 'Risk' 'Risk' 'Risk' 'Risk' 'Risk' 'Risk' 'Risk' 'Risk' 'Risk'\n",
            " 'Risk' 'Risk' 'Risk' 'Risk' 'Risk' 'Risk' 'Risk' 'Risk' 'Risk' 'Risk'\n",
            " 'Risk' 'Risk' 'Risk' 'Risk' 'Risk' 'Risk' 'Risk' 'Risk' 'Risk' 'Risk'\n",
            " 'Risk' 'Risk' 'Risk' 'Risk' 'Risk' 'Risk' 'Risk' 'Risk' 'Risk' 'Risk'\n",
            " 'Risk' 'Risk' 'Risk' 'Risk' 'Risk']\n"
          ]
        }
      ]
    },
    {
      "cell_type": "markdown",
      "source": [
        "### **Splitting dataset for Training and Validation**"
      ],
      "metadata": {
        "id": "bo3dCtFbyMRa"
      }
    },
    {
      "cell_type": "code",
      "source": [
        "x_train, x_val, y_train, y_val = train_test_split(x, y, test_size=0.20, random_state=1, shuffle=True)"
      ],
      "metadata": {
        "id": "Y-NTgrOEwdRM"
      },
      "execution_count": 25,
      "outputs": []
    },
    {
      "cell_type": "markdown",
      "source": [
        "### **Loading ML Algorithm**"
      ],
      "metadata": {
        "id": "byVrvUNTzLg9"
      }
    },
    {
      "cell_type": "code",
      "source": [
        "models = []\n",
        "models.append(('LR', LogisticRegression(solver='liblinear', multi_class='ovr')))\n",
        "models.append(('LDA', LinearDiscriminantAnalysis()))\n",
        "models.append(('KNN', KNeighborsClassifier()))\n",
        "models.append(('CART', DecisionTreeClassifier()))\n",
        "models.append(('NB',GaussianNB()))\n",
        "models.append(('SVM', SVC(gamma='auto')))\n"
      ],
      "metadata": {
        "id": "Ul1Pypg-y8Ic"
      },
      "execution_count": 26,
      "outputs": []
    },
    {
      "cell_type": "code",
      "source": [
        "results = []\n",
        "names = []\n",
        "res = []\n",
        "for name, model in models:\n",
        "  kfold = StratifiedKFold(n_splits=10, random_state=None)\n",
        "  cv_results = cross_val_score(model, x_train, y_train, cv=kfold, scoring='accuracy')\n",
        "  results.append(cv_results)\n",
        "  names.append(name)\n",
        "  res.append(cv_results.mean())\n",
        "  print('%s: %f (%f)' % (name, cv_results.mean(), cv_results.std()))\n",
        "\n",
        "pyplot.ylim(.990, .999)\n",
        "pyplot.bar(names, res, color='red', width=0.6)\n",
        "\n",
        "pyplot.title('Algorithm Comparison')\n",
        "pyplot.show()\n"
      ],
      "metadata": {
        "colab": {
          "base_uri": "https://localhost:8080/",
          "height": 556
        },
        "id": "CnLaKP8i34fP",
        "outputId": "df14bce7-5df0-40bb-af1a-c11112208dd8"
      },
      "execution_count": 27,
      "outputs": [
        {
          "output_type": "stream",
          "name": "stdout",
          "text": [
            "LR: 0.996875 (0.009375)\n",
            "LDA: 0.996875 (0.009375)\n",
            "KNN: 0.993750 (0.018750)\n",
            "CART: 0.996875 (0.009375)\n",
            "NB: 0.990625 (0.020010)\n",
            "SVM: 0.990625 (0.020010)\n"
          ]
        },
        {
          "output_type": "display_data",
          "data": {
            "text/plain": [
              "<Figure size 640x480 with 1 Axes>"
            ],
            "image/png": "[encoded data removed]"
          },
          "metadata": {}
        }
      ]
    }
  ]
}